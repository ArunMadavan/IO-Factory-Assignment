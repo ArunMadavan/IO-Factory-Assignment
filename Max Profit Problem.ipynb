{
 "cells": [
  {
   "cell_type": "code",
   "execution_count": 1,
   "id": "acdab6f6",
   "metadata": {},
   "outputs": [
    {
     "name": "stdout",
     "output_type": "stream",
     "text": [
      "Time unit: 13\n",
      "Earnings: $16500\n",
      "Solution:\n",
      " T: 2, P: 0, C: 0\n"
     ]
    }
   ],
   "source": [
    "# Earnings for each (Theatre,Pub,Commercial Park)\n",
    "\n",
    "def calculate_earnings(n):\n",
    "    earnings = [0, 0, 0]  \n",
    "    \n",
    "# Calculate earnings for Pubs\n",
    "    if n < 4:\n",
    "        return 0\n",
    "    earnings[0] = (n - 4) * 1000 \n",
    "    \n",
    "# Calculate earnings for Theatres\n",
    "    if n >= 5:\n",
    "        earnings[1] = (n - 5) * 1500 \n",
    "        \n",
    "# Calculate earnings for Commercial Parks\n",
    "        if n >= 10:\n",
    "            earnings[2] = (n - 10) * 3000  \n",
    "            \n",
    "# Get the index of maximum earnings\n",
    "    max_index = earnings.index(max(earnings))  \n",
    "    tasks[max_index] += 1\n",
    "\n",
    "    return max(earnings) + calculate_earnings(n - time_units[max_index])\n",
    "\n",
    "\n",
    "def get_solution_string():\n",
    "    return f\"T: {tasks[1]}, P: {tasks[0]}, C: {tasks[2]}\"\n",
    "\n",
    "\n",
    "tasks = [0, 0, 0]\n",
    "time_units = [4, 5, 10]\n",
    "\n",
    "n = int(input(\"Time unit: \"))\n",
    "print(f\"Earnings: ${calculate_earnings(n)}\")\n",
    "print(\"Solution:\\n\", get_solution_string())"
   ]
  },
  {
   "cell_type": "code",
   "execution_count": null,
   "id": "d40a71fd",
   "metadata": {},
   "outputs": [],
   "source": []
  },
  {
   "cell_type": "code",
   "execution_count": null,
   "id": "50b68ac6",
   "metadata": {},
   "outputs": [],
   "source": []
  },
  {
   "cell_type": "code",
   "execution_count": null,
   "id": "8d5d1f0f",
   "metadata": {},
   "outputs": [],
   "source": []
  },
  {
   "cell_type": "code",
   "execution_count": null,
   "id": "69d1f6d7",
   "metadata": {},
   "outputs": [],
   "source": []
  }
 ],
 "metadata": {
  "kernelspec": {
   "display_name": "Python 3 (ipykernel)",
   "language": "python",
   "name": "python3"
  },
  "language_info": {
   "codemirror_mode": {
    "name": "ipython",
    "version": 3
   },
   "file_extension": ".py",
   "mimetype": "text/x-python",
   "name": "python",
   "nbconvert_exporter": "python",
   "pygments_lexer": "ipython3",
   "version": "3.9.13"
  }
 },
 "nbformat": 4,
 "nbformat_minor": 5
}
